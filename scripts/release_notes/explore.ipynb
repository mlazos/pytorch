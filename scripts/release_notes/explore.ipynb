{
 "cells": [
  {
   "cell_type": "code",
   "execution_count": 27,
   "metadata": {},
   "outputs": [],
   "source": [
    "import pandas as pd\n",
    "import numpy as np\n",
    "from pprint import pprint\n",
    "from collections import Counter\n",
    "from common import categories"
   ]
  },
  {
   "cell_type": "code",
   "execution_count": 28,
   "metadata": {},
   "outputs": [
    {
     "data": {
      "text/html": [
       "<div>\n",
       "<style scoped>\n",
       "    .dataframe tbody tr th:only-of-type {\n",
       "        vertical-align: middle;\n",
       "    }\n",
       "\n",
       "    .dataframe tbody tr th {\n",
       "        vertical-align: top;\n",
       "    }\n",
       "\n",
       "    .dataframe thead th {\n",
       "        text-align: right;\n",
       "    }\n",
       "</style>\n",
       "<table border=\"1\" class=\"dataframe\">\n",
       "  <thead>\n",
       "    <tr style=\"text-align: right;\">\n",
       "      <th></th>\n",
       "      <th>commit_hash</th>\n",
       "      <th>category</th>\n",
       "      <th>topic</th>\n",
       "      <th>title</th>\n",
       "      <th>pr_link</th>\n",
       "      <th>author</th>\n",
       "      <th>accepter_1</th>\n",
       "      <th>accepter_2</th>\n",
       "      <th>accepter_3</th>\n",
       "      <th>merge_into</th>\n",
       "    </tr>\n",
       "  </thead>\n",
       "  <tbody>\n",
       "    <tr>\n",
       "      <th>0</th>\n",
       "      <td>c609768896e</td>\n",
       "      <td>autograd_frontend</td>\n",
       "      <td>Untopiced</td>\n",
       "      <td>Add refs for torch.unfold and a decomposition ...</td>\n",
       "      <td>https://github.com/pytorch/pytorch/pull/85629</td>\n",
       "      <td>lezcano</td>\n",
       "      <td>mruberry</td>\n",
       "      <td>NaN</td>\n",
       "      <td>NaN</td>\n",
       "      <td>NaN</td>\n",
       "    </tr>\n",
       "    <tr>\n",
       "      <th>1</th>\n",
       "      <td>0e03dc5f1e0</td>\n",
       "      <td>Uncategorized</td>\n",
       "      <td>Untopiced</td>\n",
       "      <td>Remove softmax from recomputable ops (#86268)</td>\n",
       "      <td>https://github.com/pytorch/pytorch/pull/86268</td>\n",
       "      <td>Chillee</td>\n",
       "      <td>ezyang</td>\n",
       "      <td>NaN</td>\n",
       "      <td>NaN</td>\n",
       "      <td>NaN</td>\n",
       "    </tr>\n",
       "    <tr>\n",
       "      <th>2</th>\n",
       "      <td>63d8d4f6ec5</td>\n",
       "      <td>skip</td>\n",
       "      <td>Untopiced</td>\n",
       "      <td>SymIntify cat and narrow (#86191)</td>\n",
       "      <td>https://github.com/pytorch/pytorch/pull/86191</td>\n",
       "      <td>wconstab</td>\n",
       "      <td>ezyang</td>\n",
       "      <td>NaN</td>\n",
       "      <td>NaN</td>\n",
       "      <td>NaN</td>\n",
       "    </tr>\n",
       "    <tr>\n",
       "      <th>3</th>\n",
       "      <td>97d2e1df556</td>\n",
       "      <td>Uncategorized</td>\n",
       "      <td>Untopiced</td>\n",
       "      <td>[MPS] Fix GELU for `torch.half` (#86218)</td>\n",
       "      <td>NaN</td>\n",
       "      <td>NaN</td>\n",
       "      <td>NaN</td>\n",
       "      <td>NaN</td>\n",
       "      <td>NaN</td>\n",
       "      <td>NaN</td>\n",
       "    </tr>\n",
       "    <tr>\n",
       "      <th>4</th>\n",
       "      <td>7f607e8cb5c</td>\n",
       "      <td>releng</td>\n",
       "      <td>not user facing</td>\n",
       "      <td>[torchdynamo hash update] update the pinned to...</td>\n",
       "      <td>https://github.com/pytorch/pytorch/pull/85774</td>\n",
       "      <td>pytorchmergebot</td>\n",
       "      <td>malfet</td>\n",
       "      <td>pytorchbot</td>\n",
       "      <td>NaN</td>\n",
       "      <td>NaN</td>\n",
       "    </tr>\n",
       "  </tbody>\n",
       "</table>\n",
       "</div>"
      ],
      "text/plain": [
       "   commit_hash           category            topic  \\\n",
       "0  c609768896e  autograd_frontend        Untopiced   \n",
       "1  0e03dc5f1e0      Uncategorized        Untopiced   \n",
       "2  63d8d4f6ec5               skip        Untopiced   \n",
       "3  97d2e1df556      Uncategorized        Untopiced   \n",
       "4  7f607e8cb5c             releng  not user facing   \n",
       "\n",
       "                                               title  \\\n",
       "0  Add refs for torch.unfold and a decomposition ...   \n",
       "1      Remove softmax from recomputable ops (#86268)   \n",
       "2                  SymIntify cat and narrow (#86191)   \n",
       "3           [MPS] Fix GELU for `torch.half` (#86218)   \n",
       "4  [torchdynamo hash update] update the pinned to...   \n",
       "\n",
       "                                         pr_link           author accepter_1  \\\n",
       "0  https://github.com/pytorch/pytorch/pull/85629          lezcano   mruberry   \n",
       "1  https://github.com/pytorch/pytorch/pull/86268          Chillee     ezyang   \n",
       "2  https://github.com/pytorch/pytorch/pull/86191         wconstab     ezyang   \n",
       "3                                            NaN              NaN        NaN   \n",
       "4  https://github.com/pytorch/pytorch/pull/85774  pytorchmergebot     malfet   \n",
       "\n",
       "   accepter_2 accepter_3  merge_into  \n",
       "0         NaN        NaN         NaN  \n",
       "1         NaN        NaN         NaN  \n",
       "2         NaN        NaN         NaN  \n",
       "3         NaN        NaN         NaN  \n",
       "4  pytorchbot        NaN         NaN  "
      ]
     },
     "execution_count": 28,
     "metadata": {},
     "output_type": "execute_result"
    }
   ],
   "source": [
    "commit_list_df = pd.read_csv(\"results/commitlist.csv\")\n",
    "mean_authors=commit_list_df.query(\"category == 'Uncategorized' & topic != 'not user facing'\").author.to_list()\n",
    "counts = Counter(mean_authors)\n",
    "commit_list_df.head()"
   ]
  },
  {
   "cell_type": "code",
   "execution_count": 29,
   "metadata": {},
   "outputs": [
    {
     "name": "stdout",
     "output_type": "stream",
     "text": [
      "645\n"
     ]
    }
   ],
   "source": [
    "# The number un categorized and no topic commits\n",
    "no_category = commit_list_df.query(\"category == 'Uncategorized' & topic != 'not user facing'\")\n",
    "print(len(no_category))"
   ]
  },
  {
   "cell_type": "code",
   "execution_count": 30,
   "metadata": {},
   "outputs": [
    {
     "data": {
      "text/plain": [
       "False"
      ]
     },
     "execution_count": 30,
     "metadata": {},
     "output_type": "execute_result"
    }
   ],
   "source": [
    "# check for cherry-picked commits\n",
    "example_sha = '55c76baf579cb6593f87d1a23e9a49afeb55f15a'\n",
    "commit_hashes = set(commit_list_df.commit_hash.to_list())\n",
    "\n",
    "example_sha[:11] in commit_hashes"
   ]
  },
  {
   "cell_type": "code",
   "execution_count": 33,
   "metadata": {},
   "outputs": [
    {
     "name": "stdout",
     "output_type": "stream",
     "text": [
      "10\n",
      "{'AO frontend',\n",
      " 'Meta API',\n",
      " 'ao',\n",
      " 'dynamo',\n",
      " 'functorch',\n",
      " 'gnn',\n",
      " 'inductor',\n",
      " 'intel',\n",
      " 'mps',\n",
      " 'nested tensor'}\n"
     ]
    }
   ],
   "source": [
    "# Get the difference between known categories and categories from commits\n",
    "\n",
    "diff_categories = set(commit_list_df.category.to_list()) - set(categories)\n",
    "print(len(diff_categories))\n",
    "pprint(diff_categories)"
   ]
  },
  {
   "cell_type": "code",
   "execution_count": null,
   "metadata": {},
   "outputs": [],
   "source": []
  }
 ],
 "metadata": {
  "kernelspec": {
   "display_name": "Python 3",
   "language": "python",
   "name": "python3"
  },
  "language_info": {
   "codemirror_mode": {
    "name": "ipython",
    "version": 3
   },
   "file_extension": ".py",
   "mimetype": "text/x-python",
   "name": "python",
   "nbconvert_exporter": "python",
   "pygments_lexer": "ipython3",
   "version": "3.9.15"
  },
  "orig_nbformat": 4,
  "vscode": {
   "interpreter": {
    "hash": "a867c59af434d7534e61ccb37014830daefd5fcd3816cab68d595dde5e446f52"
   }
  }
 },
 "nbformat": 4,
 "nbformat_minor": 2
}
